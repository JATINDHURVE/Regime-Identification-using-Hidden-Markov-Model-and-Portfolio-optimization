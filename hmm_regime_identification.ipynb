{
 "cells": [
  {
   "cell_type": "code",
   "execution_count": 2,
   "id": "ddf70a67",
   "metadata": {},
   "outputs": [],
   "source": [
    "import pandas as pd\n",
    "import numpy as np\n",
    "from sklearn.preprocessing import StandardScaler\n",
    "from hmmlearn.hmm import GaussianHMM\n",
    "import matplotlib.pyplot as plt\n",
    "import matplotlib.dates as mdates\n",
    "from sklearn.model_selection import cross_val_score"
   ]
  },
  {
   "cell_type": "code",
   "execution_count": 3,
   "id": "12e9e81e",
   "metadata": {},
   "outputs": [],
   "source": [
    "df = pd.read_excel('/Users/jatindhurve/Desktop/Regime_Portfolio_project/Data/leading_indicators.xlsx')"
   ]
  },
  {
   "cell_type": "code",
   "execution_count": 4,
   "id": "d1dc36fe",
   "metadata": {},
   "outputs": [
    {
     "data": {
      "text/html": [
       "<div>\n",
       "<style scoped>\n",
       "    .dataframe tbody tr th:only-of-type {\n",
       "        vertical-align: middle;\n",
       "    }\n",
       "\n",
       "    .dataframe tbody tr th {\n",
       "        vertical-align: top;\n",
       "    }\n",
       "\n",
       "    .dataframe thead th {\n",
       "        text-align: right;\n",
       "    }\n",
       "</style>\n",
       "<table border=\"1\" class=\"dataframe\">\n",
       "  <thead>\n",
       "    <tr style=\"text-align: right;\">\n",
       "      <th></th>\n",
       "      <th>Date</th>\n",
       "      <th>VIX</th>\n",
       "      <th>PMI</th>\n",
       "      <th>yield_curve</th>\n",
       "    </tr>\n",
       "  </thead>\n",
       "  <tbody>\n",
       "    <tr>\n",
       "      <th>0</th>\n",
       "      <td>1990-01-31</td>\n",
       "      <td>25.36</td>\n",
       "      <td>47.2</td>\n",
       "      <td>16.35</td>\n",
       "    </tr>\n",
       "  </tbody>\n",
       "</table>\n",
       "</div>"
      ],
      "text/plain": [
       "        Date    VIX   PMI  yield_curve\n",
       "0 1990-01-31  25.36  47.2        16.35"
      ]
     },
     "execution_count": 4,
     "metadata": {},
     "output_type": "execute_result"
    }
   ],
   "source": [
    "df.head(1)"
   ]
  },
  {
   "cell_type": "code",
   "execution_count": 5,
   "id": "e1b14801",
   "metadata": {},
   "outputs": [
    {
     "data": {
      "text/html": [
       "<div>\n",
       "<style scoped>\n",
       "    .dataframe tbody tr th:only-of-type {\n",
       "        vertical-align: middle;\n",
       "    }\n",
       "\n",
       "    .dataframe tbody tr th {\n",
       "        vertical-align: top;\n",
       "    }\n",
       "\n",
       "    .dataframe thead th {\n",
       "        text-align: right;\n",
       "    }\n",
       "</style>\n",
       "<table border=\"1\" class=\"dataframe\">\n",
       "  <thead>\n",
       "    <tr style=\"text-align: right;\">\n",
       "      <th></th>\n",
       "      <th>Date</th>\n",
       "      <th>VIX</th>\n",
       "      <th>PMI</th>\n",
       "      <th>yield_curve</th>\n",
       "    </tr>\n",
       "  </thead>\n",
       "  <tbody>\n",
       "    <tr>\n",
       "      <th>422</th>\n",
       "      <td>2025-03-31</td>\n",
       "      <td>22.28</td>\n",
       "      <td>49.0</td>\n",
       "      <td>31.799</td>\n",
       "    </tr>\n",
       "  </tbody>\n",
       "</table>\n",
       "</div>"
      ],
      "text/plain": [
       "          Date    VIX   PMI  yield_curve\n",
       "422 2025-03-31  22.28  49.0       31.799"
      ]
     },
     "execution_count": 5,
     "metadata": {},
     "output_type": "execute_result"
    }
   ],
   "source": [
    "df.tail(1)"
   ]
  },
  {
   "cell_type": "code",
   "execution_count": 6,
   "id": "3ce65f4e",
   "metadata": {},
   "outputs": [
    {
     "data": {
      "text/plain": [
       "0"
      ]
     },
     "execution_count": 6,
     "metadata": {},
     "output_type": "execute_result"
    }
   ],
   "source": [
    "df.isna().sum().sum()"
   ]
  },
  {
   "cell_type": "code",
   "execution_count": 7,
   "id": "b3bf7319",
   "metadata": {},
   "outputs": [
    {
     "data": {
      "text/plain": [
       "Index(['Date', 'VIX', 'PMI', 'yield_curve'], dtype='object')"
      ]
     },
     "execution_count": 7,
     "metadata": {},
     "output_type": "execute_result"
    }
   ],
   "source": [
    "df.columns"
   ]
  },
  {
   "cell_type": "code",
   "execution_count": 8,
   "id": "36c5dae2",
   "metadata": {},
   "outputs": [],
   "source": [
    "features = [\"VIX\", \"PMI\", \"yield_curve\"]\n",
    "mask     = df[features].notna().all(axis=1)\n",
    "\n",
    "X      = df.loc[mask, features].values\n",
    "dates  = df.loc[mask, \"Date\"].values       \n",
    "scaler = StandardScaler()\n",
    "X_std  = scaler.fit_transform(X)"
   ]
  },
  {
   "cell_type": "code",
   "execution_count": 9,
   "id": "6b01ad3a",
   "metadata": {},
   "outputs": [],
   "source": [
    "n_states = 4\n",
    "hmm = GaussianHMM(\n",
    "    n_components   = n_states,\n",
    "    covariance_type= \"full\",\n",
    "    n_iter         = 1000,\n",
    "    random_state   = 42,\n",
    ")\n",
    "hmm.fit(X_std)\n",
    "states = hmm.predict(X_std)      "
   ]
  },
  {
   "cell_type": "code",
   "execution_count": 10,
   "id": "84476a45",
   "metadata": {},
   "outputs": [],
   "source": [
    "centroids = pd.DataFrame(hmm.means_, columns=features)"
   ]
  },
  {
   "cell_type": "code",
   "execution_count": 11,
   "id": "a8c3b6a8",
   "metadata": {},
   "outputs": [],
   "source": [
    "mapping = {}\n",
    "\n",
    "# 1. Expansion → highest PMI & lowest VIX (optional tie-breaker)\n",
    "expansion_idx = centroids[\"PMI\"].idxmax()\n",
    "mapping[expansion_idx] = \"Expansion\"\n",
    "\n",
    "# 2. Downturn → lowest PMI & highest VIX (optional tie-breaker)\n",
    "downturn_idx = centroids[\"PMI\"].idxmin()\n",
    "mapping[downturn_idx] = \"Downturn\"\n",
    "\n",
    "# 3. Get remaining states\n",
    "remaining = [s for s in range(n_states) if s not in mapping]\n",
    "\n",
    "# 4. Use yield curve to split remaining into Recovery and Slowdown\n",
    "remaining_df = centroids.loc[remaining]\n",
    "\n",
    "# Recovery → higher yield curve & lower VIX (steep curve, calmer market)\n",
    "# Slowdown → flatter curve or higher VIX (risk or uncertainty)\n",
    "recovery_idx = remaining_df.sort_values(by=[\"yield_curve\", \"VIX\"], ascending=[False, True]).index[0]\n",
    "slowdown_idx = [s for s in remaining if s != recovery_idx][0]\n",
    "\n",
    "mapping[recovery_idx] = \"Recovery\"\n",
    "mapping[slowdown_idx] = \"Slowdown\"\n",
    "\n",
    "# Map each state number to its regime label\n",
    "state_labels = [mapping[s] for s in states]"
   ]
  },
  {
   "cell_type": "code",
   "execution_count": 12,
   "id": "01b3121e",
   "metadata": {},
   "outputs": [
    {
     "name": "stdout",
     "output_type": "stream",
     "text": [
      "    VIX   PMI  yield_curve\n",
      "0  0.89 -0.64         0.92\n",
      "1 -0.13  0.48        -0.90\n",
      "2 -0.63  0.17         0.51\n",
      "3  0.42 -0.54        -0.91\n"
     ]
    }
   ],
   "source": [
    "print(centroids.round(2))"
   ]
  },
  {
   "cell_type": "code",
   "execution_count": 13,
   "id": "1fe16fb0",
   "metadata": {},
   "outputs": [],
   "source": [
    "reg_df = pd.DataFrame({\"Date\": dates, \"regimes\": state_labels})\n",
    "df = df.merge(reg_df, on=\"Date\", how=\"left\")"
   ]
  },
  {
   "cell_type": "markdown",
   "id": "17cdaa48",
   "metadata": {},
   "source": [
    "### **Probabalities**"
   ]
  },
  {
   "cell_type": "code",
   "execution_count": 14,
   "id": "308bb39f",
   "metadata": {},
   "outputs": [
    {
     "name": "stdout",
     "output_type": "stream",
     "text": [
      "Steady-State Probabilities:\n",
      "Downturn: 0.235\n",
      "Expansion: 0.319\n",
      "Recovery: 0.338\n",
      "Slowdown: 0.108\n"
     ]
    }
   ],
   "source": [
    "# Get smoothed probabilities (posterior probabilities for each time point)\n",
    "smoothed_probs = hmm.predict_proba(X_std)\n",
    "\n",
    "# Get steady-state probabilities (long-run equilibrium probabilities)\n",
    "steady_state_probs = hmm.get_stationary_distribution()\n",
    "\n",
    "# Create dictionary mapping regime names to steady-state probabilities\n",
    "steady_state_dict = {mapping[i]: steady_state_probs[i] for i in range(n_states)}\n",
    "\n",
    "print(\"Steady-State Probabilities:\")\n",
    "for regime, prob in steady_state_dict.items():\n",
    "   print(f\"{regime}: {prob:.3f}\")"
   ]
  },
  {
   "cell_type": "code",
   "execution_count": 15,
   "id": "b9fe88f2",
   "metadata": {},
   "outputs": [
    {
     "data": {
      "text/html": [
       "<div>\n",
       "<style scoped>\n",
       "    .dataframe tbody tr th:only-of-type {\n",
       "        vertical-align: middle;\n",
       "    }\n",
       "\n",
       "    .dataframe tbody tr th {\n",
       "        vertical-align: top;\n",
       "    }\n",
       "\n",
       "    .dataframe thead th {\n",
       "        text-align: right;\n",
       "    }\n",
       "</style>\n",
       "<table border=\"1\" class=\"dataframe\">\n",
       "  <thead>\n",
       "    <tr style=\"text-align: right;\">\n",
       "      <th></th>\n",
       "      <th>Date</th>\n",
       "      <th>VIX</th>\n",
       "      <th>PMI</th>\n",
       "      <th>yield_curve</th>\n",
       "      <th>regimes</th>\n",
       "    </tr>\n",
       "  </thead>\n",
       "  <tbody>\n",
       "    <tr>\n",
       "      <th>0</th>\n",
       "      <td>1990-01-31</td>\n",
       "      <td>25.36</td>\n",
       "      <td>47.2</td>\n",
       "      <td>16.35</td>\n",
       "      <td>Slowdown</td>\n",
       "    </tr>\n",
       "    <tr>\n",
       "      <th>1</th>\n",
       "      <td>1990-02-28</td>\n",
       "      <td>21.99</td>\n",
       "      <td>49.1</td>\n",
       "      <td>9.35</td>\n",
       "      <td>Slowdown</td>\n",
       "    </tr>\n",
       "    <tr>\n",
       "      <th>2</th>\n",
       "      <td>1990-03-30</td>\n",
       "      <td>19.73</td>\n",
       "      <td>49.9</td>\n",
       "      <td>0.55</td>\n",
       "      <td>Slowdown</td>\n",
       "    </tr>\n",
       "    <tr>\n",
       "      <th>3</th>\n",
       "      <td>1990-04-30</td>\n",
       "      <td>19.52</td>\n",
       "      <td>50.0</td>\n",
       "      <td>7.75</td>\n",
       "      <td>Slowdown</td>\n",
       "    </tr>\n",
       "    <tr>\n",
       "      <th>4</th>\n",
       "      <td>1990-05-31</td>\n",
       "      <td>17.37</td>\n",
       "      <td>49.5</td>\n",
       "      <td>11.65</td>\n",
       "      <td>Slowdown</td>\n",
       "    </tr>\n",
       "  </tbody>\n",
       "</table>\n",
       "</div>"
      ],
      "text/plain": [
       "        Date    VIX   PMI  yield_curve   regimes\n",
       "0 1990-01-31  25.36  47.2        16.35  Slowdown\n",
       "1 1990-02-28  21.99  49.1         9.35  Slowdown\n",
       "2 1990-03-30  19.73  49.9         0.55  Slowdown\n",
       "3 1990-04-30  19.52  50.0         7.75  Slowdown\n",
       "4 1990-05-31  17.37  49.5        11.65  Slowdown"
      ]
     },
     "execution_count": 15,
     "metadata": {},
     "output_type": "execute_result"
    }
   ],
   "source": [
    "df.head()"
   ]
  },
  {
   "cell_type": "code",
   "execution_count": 16,
   "id": "043515e6",
   "metadata": {},
   "outputs": [],
   "source": [
    "df.to_excel(\"hmm_regime_identification.xlsx\", index=False)"
   ]
  },
  {
   "cell_type": "code",
   "execution_count": 17,
   "id": "b2655a72",
   "metadata": {},
   "outputs": [
    {
     "name": "stdout",
     "output_type": "stream",
     "text": [
      "Date\n",
      "1990-01-31    Slowdown\n",
      "1990-02-28    Slowdown\n",
      "1990-03-31    Slowdown\n",
      "1990-04-30    Slowdown\n",
      "1990-05-31    Slowdown\n",
      "                ...   \n",
      "2024-11-30    Slowdown\n",
      "2024-12-31    Slowdown\n",
      "2025-01-31    Slowdown\n",
      "2025-02-28    Slowdown\n",
      "2025-03-31    Slowdown\n",
      "Freq: ME, Name: regimes, Length: 423, dtype: object\n"
     ]
    },
    {
     "name": "stderr",
     "output_type": "stream",
     "text": [
      "/var/folders/ky/n1n3tvzn3zb6_44x8nfzwn700000gn/T/ipykernel_27839/2698831533.py:3: FutureWarning: 'M' is deprecated and will be removed in a future version, please use 'ME' instead.\n",
      "  .asfreq(\"M\")\n"
     ]
    }
   ],
   "source": [
    "df = (\n",
    "    df.set_index(\"Date\")         \n",
    "      .asfreq(\"M\")                \n",
    ")\n",
    "df[\"regimes\"] = df[\"regimes\"].ffill().bfill()\n",
    "\n",
    "# (optional) quick inspection\n",
    "print(df[\"regimes\"])"
   ]
  },
  {
   "cell_type": "code",
   "execution_count": 18,
   "id": "f72d2bb4",
   "metadata": {},
   "outputs": [
    {
     "data": {
      "image/png": "[encoded data removed]",
      "text/plain": [
       "<Figure size 1500x600 with 1 Axes>"
      ]
     },
     "metadata": {},
     "output_type": "display_data"
    }
   ],
   "source": [
    "palette = {\n",
    "    \"Expansion\": \"#1A5E63\",\n",
    "    \"Slowdown\" : \"#B68900\",\n",
    "    \"Recovery\" : \"#4B74A6\",\n",
    "    \"Downturn\" : \"#A63636\",\n",
    "}\n",
    "\n",
    "fig, ax = plt.subplots(figsize=(15, 6))\n",
    "\n",
    "segments = (df[\"regimes\"] != df[\"regimes\"].shift()).cumsum()\n",
    "\n",
    "# Collect spans\n",
    "spans = []\n",
    "for _, seg in df.groupby(segments):\n",
    "    regime = seg[\"regimes\"].iloc[0]\n",
    "    start = seg.index[0]\n",
    "    end = seg.index[-1] + pd.offsets.MonthEnd(0)\n",
    "    spans.append((start, end, regime))\n",
    "\n",
    "# Fix: Force perfect continuity between spans\n",
    "for i, (start, end, regime) in enumerate(spans):\n",
    "    if i > 0:\n",
    "        # Force current start = previous end\n",
    "        start = spans[i - 1][1]\n",
    "    ax.axvspan(start, end, color=palette[regime], lw=0)\n",
    "\n",
    "# Clean axes\n",
    "ax.set_ylim(0, 1)\n",
    "ax.set_yticks([])\n",
    "ax.set_title(\"Economic Regimes (HMM)\")\n",
    "ax.xaxis.set_major_locator(mdates.YearLocator(5))\n",
    "ax.xaxis.set_major_formatter(mdates.DateFormatter(\"%Y\"))\n",
    "\n",
    "# Legend\n",
    "handles = [plt.Line2D([0], [0], lw=8, color=c) for c in palette.values()]\n",
    "ax.legend(handles, palette.keys(), ncol=4, frameon=False,\n",
    "          bbox_to_anchor=(0, 1.02, 1, .2), loc=\"lower left\")\n",
    "\n",
    "plt.tight_layout()\n",
    "plt.show()"
   ]
  },
  {
   "cell_type": "code",
   "execution_count": 24,
   "id": "ef6816d6",
   "metadata": {},
   "outputs": [
    {
     "name": "stdout",
     "output_type": "stream",
     "text": [
      "Table 6.1: Regime Distribution and Sample Characteristics\n",
      "           Observations  Percentage  Years\n",
      "regimes                                   \n",
      "Recovery            145       34.28  12.08\n",
      "Expansion           135       31.91  11.25\n",
      "Downturn             97       22.93   8.08\n",
      "Slowdown             46       10.87   3.83\n"
     ]
    }
   ],
   "source": [
    "regime_summary = pd.DataFrame({\n",
    "    'Observations': df['regimes'].value_counts(),\n",
    "    'Percentage': df['regimes'].value_counts(normalize=True) * 100,\n",
    "    'Years': df['regimes'].value_counts() / 12\n",
    "}).round(2)\n",
    "print(\"Table 6.1: Regime Distribution and Sample Characteristics\")\n",
    "print(regime_summary)"
   ]
  },
  {
   "cell_type": "code",
   "execution_count": null,
   "id": "ff75bce9",
   "metadata": {},
   "outputs": [],
   "source": []
  }
 ],
 "metadata": {
  "kernelspec": {
   "display_name": "base",
   "language": "python",
   "name": "python3"
  },
  "language_info": {
   "codemirror_mode": {
    "name": "ipython",
    "version": 3
   },
   "file_extension": ".py",
   "mimetype": "text/x-python",
   "name": "python",
   "nbconvert_exporter": "python",
   "pygments_lexer": "ipython3",
   "version": "3.12.4"
  }
 },
 "nbformat": 4,
 "nbformat_minor": 5
}
